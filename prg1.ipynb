{
 "cells": [
  {
   "cell_type": "code",
   "execution_count": 1,
   "id": "fb49d139-3f6f-49be-b149-6092790bf6fa",
   "metadata": {},
   "outputs": [
    {
     "name": "stdout",
     "output_type": "stream",
     "text": [
      "demo of basic datatypes:Numbers\n",
      "x= 3\n",
      "y= 2.5\n",
      "datatype of variable x: <class 'int'>\n",
      "datatype of variable y: <class 'float'>\n",
      "addition: 5.5\n",
      "subraction: 1\n",
      "multiplication: 6\n",
      "exponents: 9\n"
     ]
    }
   ],
   "source": [
    "print(\"demo of basic datatypes:Numbers\")\n",
    "x=3\n",
    "y=2.5\n",
    "print(\"x=\",x)\n",
    "print(\"y=\",y)\n",
    "print(\"datatype of variable x:\",type(x))\n",
    "print(\"datatype of variable y:\",type(y))\n",
    "print(\"addition:\",x+y)\n",
    "print(\"subraction:\",x-2)\n",
    "print(\"multiplication:\",x*2)\n",
    "print(\"exponents:\",x**2)"
   ]
  },
  {
   "cell_type": "code",
   "execution_count": 5,
   "id": "b7b03ed1-100c-4101-af54-7bad9c397c33",
   "metadata": {},
   "outputs": [
    {
     "name": "stdout",
     "output_type": "stream",
     "text": [
      "demo of basic datatypes:Boolean\n",
      "t= True\n",
      "f= False\n",
      "datatype of variable t: <class 'bool'>\n",
      "datatype of variable f: <class 'bool'>\n",
      "logical AND operation: False\n",
      "logical OR operation: True\n",
      "logical NOT operation: False\n",
      "logical XOR operation: True\n"
     ]
    }
   ],
   "source": [
    "print(\"demo of basic datatypes:Boolean\")\n",
    "t=True\n",
    "f=False\n",
    "print(\"t=\",t)\n",
    "print(\"f=\",f)\n",
    "print(\"datatype of variable t:\",type(t))\n",
    "print(\"datatype of variable f:\",type(f))\n",
    "print(\"logical AND operation:\",t and f)\n",
    "print(\"logical OR operation:\",t or f)\n",
    "print(\"logical NOT operation:\", not t)\n",
    "print(\"logical XOR operation:\",t!=f)"
   ]
  },
  {
   "cell_type": "code",
   "execution_count": 17,
   "id": "67b07a40-9352-447e-8189-444aeeb2b50b",
   "metadata": {},
   "outputs": [
    {
     "name": "stdout",
     "output_type": "stream",
     "text": [
      "demo of basic datatypes:string\n",
      "string 1 : hello\n",
      "string 2: world\n",
      "string concatenation: hello world\n",
      "capitalize: Hello world\n",
      "converted to uppercase: HELLO\n",
      "right just a string :   hello\n",
      "string at center:  hello \n",
      "after replacing l with ell: he(ell)(ell)o\n",
      "string after stripping leading and trailing white spaces: world\n"
     ]
    }
   ],
   "source": [
    "print(\"demo of basic datatypes:string\")\n",
    "s=\"hello\"\n",
    "t=\"world\"\n",
    "print(\"string 1 :\",s)\n",
    "print(\"string 2:\",t)\n",
    "d= s+\" \"+t\n",
    "print(\"string concatenation:\",d)\n",
    "print(\"capitalize:\",d.capitalize())\n",
    "print(\"converted to uppercase:\",s.upper())\n",
    "print(\"right just a string :\",s.rjust(7))\n",
    "print(\"string at center:\",s.center(7))\n",
    "print(\"after replacing l with ell:\",s.replace('l','(ell)'))\n",
    "print(\"string after stripping leading and trailing white spaces:\",'world'.strip())\n"
   ]
  },
  {
   "cell_type": "code",
   "execution_count": 18,
   "id": "18f4a111-4ef0-4d95-91c5-4e4563e69731",
   "metadata": {},
   "outputs": [
    {
     "name": "stdout",
     "output_type": "stream",
     "text": [
      "containers:lists\n",
      "list 'nums' contains: [0, 1, 2, 3, 4]\n",
      "list can contain elements of different types.example: [0, 1, 2, 3, 'abc']\n",
      "'nums' after inserting new element at the end:\n",
      "sublists:\n",
      "a sclice from index 2 to 4 : [2, 3]\n",
      "a slice from index 2 to the end : []\n",
      "a slice from the start to index 2: [0, 1]\n",
      "a slice of the whole list: [0, 1, 2, 3, 'abc', 'xyz']\n",
      "after assigning a new sublist to 'nums':\n",
      "1:0\n",
      "list of squares of even numbers for 'nums': [0, 4, 64]\n",
      "2:1\n",
      "list of squares of even numbers for 'nums': [0, 4, 64]\n",
      "3:2\n",
      "list of squares of even numbers for 'nums': [0, 4, 64]\n",
      "4:3\n",
      "list of squares of even numbers for 'nums': [0, 4, 64]\n",
      "5:8\n",
      "list of squares of even numbers for 'nums': [0, 4, 64]\n",
      "6:9\n",
      "list of squares of even numbers for 'nums': [0, 4, 64]\n"
     ]
    }
   ],
   "source": [
    "print(\"containers:lists\")\n",
    "nums=list(range(5))\n",
    "print(\"list 'nums' contains:\",nums)\n",
    "nums[4]=\"abc\"\n",
    "print(\"list can contain elements of different types.example:\",nums)\n",
    "nums.append(\"xyz\")\n",
    "print(\"'nums' after inserting new element at the end:\")\n",
    "print(\"sublists:\")\n",
    "print(\"a sclice from index 2 to 4 :\",nums[2:4])\n",
    "print(\"a slice from index 2 to the end :\",nums[2:1])\n",
    "print(\"a slice from the start to index 2:\",nums[:2])\n",
    "print(\"a slice of the whole list:\",nums[:])\n",
    "nums[4:]=[8,9]\n",
    "print(\"after assigning a new sublist to 'nums':\")\n",
    "for idx,i in enumerate(nums):\n",
    "    print('%d:%s'%(idx + 1,i))\n",
    "    even_squares=[x**2 for x in nums if x%2 == 0]\n",
    "    print(\"list of squares of even numbers for 'nums':\",even_squares)\n",
    "          \n",
    "    \n",
    "    "
   ]
  },
  {
   "cell_type": "code",
   "execution_count": 25,
   "id": "3b8b7b30-2e08-4aac-b1d1-70f908f1c0da",
   "metadata": {},
   "outputs": [
    {
     "name": "stdout",
     "output_type": "stream",
     "text": [
      "containers:dictionaries\n",
      "dictionary: {'cat': 'cute', 'dog': 'furry'}\n",
      "is the dictionary has the key 'cat'? True\n",
      "after adding new entry to 'd': {'cat': 'cute', 'dog': 'furry', 'fish': 'wet'}\n",
      "after deleting the newly added entry from 'd': {'cat': 'cute', 'dog': 'furry', 'fish': 'wet'}\n",
      "demo of dictionary comprehension:\n",
      "square of integers of range 10:\n",
      "0 : 0\n",
      "1 : 1\n",
      "2 : 4\n",
      "3 : 9\n",
      "4 : 16\n",
      "5 : 25\n",
      "6 : 36\n",
      "7 : 49\n",
      "8 : 64\n",
      "9 : 81\n"
     ]
    }
   ],
   "source": [
    "print(\"containers:dictionaries\")\n",
    "d=dict()\n",
    "d={'cat':'cute','dog':'furry'}\n",
    "print(\"dictionary:\",d)\n",
    "print(\"is the dictionary has the key 'cat'?\",'cat'in d)\n",
    "d['fish']='wet'\n",
    "print(\"after adding new entry to 'd':\",d)\n",
    "print(\"after deleting the newly added entry from 'd':\",d)\n",
    "print(\"demo of dictionary comprehension:\")\n",
    "squares={x:x*x for x in range(10)}\n",
    "print(\"square of integers of range 10:\")\n",
    "for k,v in squares.items():\n",
    "    print(k,\":\",v)"
   ]
  },
  {
   "cell_type": "code",
   "execution_count": 26,
   "id": "c7a32081-9207-4a69-a05f-4f013b37a2ab",
   "metadata": {},
   "outputs": [
    {
     "name": "stdout",
     "output_type": "stream",
     "text": [
      "Containers:Sets\n",
      "Set 'num1':  {120, 100, 110}\n",
      "'num1' after inserting 90:  {120, 90, 100, 110}\n",
      "'num1' after inserting multiple elements:  {100, 70, 110, 50, 120, 90, 60}\n",
      "'num1' after removing 60:  {100, 70, 110, 50, 120, 90}\n",
      "Set comprehension and set operations: \n",
      "n1 =  {0, 1, 2, 3, 4, 5, 6, 7, 8, 9}\n",
      "n2 =  {1, 3, 5, 7, 9}\n",
      "n1 union n2:  {0, 1, 2, 3, 4, 5, 6, 7, 8, 9}\n",
      "n1 intersection n2:  {1, 3, 5, 7, 9}\n",
      "n1 difference n2:  {0, 2, 4, 6, 8}\n"
     ]
    }
   ],
   "source": [
    "print(\"Containers:Sets\")\n",
    "num1 = {100, 110, 120}\n",
    "print(\"Set 'num1': \", num1)\n",
    "num1.add(90)\n",
    "print(\"'num1' after inserting 90: \", num1)\n",
    "num1.update([50, 60, 70])\n",
    "print(\"'num1' after inserting multiple elements: \", num1)\n",
    "num1.remove(60)\n",
    "print(\"'num1' after removing 60: \", num1)\n",
    "print(\"Set comprehension and set operations: \")\n",
    "n1 = {x for x in range(10)}\n",
    "print(\"n1 = \", n1)\n",
    "n2 = {x for x in range(10) if x % 2 != 0}\n",
    "print(\"n2 = \", n2)\n",
    "print(\"n1 union n2: \", n1 | n2)\n",
    "print(\"n1 intersection n2: \", n1 & n2)\n",
    "print(\"n1 difference n2: \", n1 - n2)\n"
   ]
  },
  {
   "cell_type": "code",
   "execution_count": 34,
   "id": "f393d510-f6ac-451e-9138-dd4e3510ec96",
   "metadata": {
    "scrolled": true
   },
   "outputs": [
    {
     "name": "stdout",
     "output_type": "stream",
     "text": [
      "containers:tuples\n",
      "dictionary with tuple keys:\n",
      "(0, 1) : world\n",
      "(1, 2) : world\n",
      "(2, 3) : world\n",
      "(3, 4) : world\n",
      "(4, 5) : world\n",
      "(5, 6) : world\n",
      "(6, 7) : world\n",
      "(7, 8) : world\n",
      "(8, 9) : world\n",
      "(9, 10) : world\n",
      "tuple t: (5, 6)\n",
      "5\n",
      "1\n"
     ]
    }
   ],
   "source": [
    "print(\"containers:tuples\")\n",
    "d={(x,x+1):x for x in range(10)}\n",
    "print(\"dictionary with tuple keys:\")\n",
    "for k,v in d.items():\n",
    "    print(k,\":\",t)\n",
    "t=(5,6)\n",
    "print(\"tuple t:\",t)\n",
    "print(d[t])\n",
    "print(d[1,2])"
   ]
  },
  {
   "cell_type": "code",
   "execution_count": 43,
   "id": "8aee08b2-7d02-4e65-ad6b-95bf1778c1fb",
   "metadata": {},
   "outputs": [
    {
     "name": "stdout",
     "output_type": "stream",
     "text": [
      "demo of funtion:program to find factorial of a number\n"
     ]
    },
    {
     "name": "stdin",
     "output_type": "stream",
     "text": [
      "enter a number: 5\n"
     ]
    },
    {
     "name": "stdout",
     "output_type": "stream",
     "text": [
      "factorial: 120\n"
     ]
    }
   ],
   "source": [
    "print(\"demo of funtion:program to find factorial of a number\")\n",
    "def fact(n):\n",
    "    if n==1:\n",
    "        return 1\n",
    "    else:\n",
    "        return(n*fact(n-1))\n",
    "n=int(input(\"enter a number:\"))\n",
    "print(\"factorial:\",fact(n))"
   ]
  },
  {
   "cell_type": "code",
   "execution_count": 44,
   "id": "b69dd3a3-eb54-456e-8fe6-0b47632393c0",
   "metadata": {},
   "outputs": [
    {
     "name": "stdout",
     "output_type": "stream",
     "text": [
      "Hello ,FRED!\n",
      "Hello ,FRED!\n"
     ]
    }
   ],
   "source": [
    "class greeter:\n",
    "    def __init__(self,name):\n",
    "        self.name=name\n",
    "    def greet(self,loud=True):\n",
    "        if loud:\n",
    "            print(\"Hello ,%s!\"% self.name.upper())\n",
    "        else:\n",
    "            print(\"Hello ,%s!\"% self.name)\n",
    "g = greeter('fred')\n",
    "g.greet()\n",
    "g.greet(loud =True)"
   ]
  },
  {
   "cell_type": "code",
   "execution_count": null,
   "id": "896f792b-c9f4-41f8-84c2-baf91864adba",
   "metadata": {},
   "outputs": [],
   "source": []
  }
 ],
 "metadata": {
  "kernelspec": {
   "display_name": "Python 3 (ipykernel)",
   "language": "python",
   "name": "python3"
  },
  "language_info": {
   "codemirror_mode": {
    "name": "ipython",
    "version": 3
   },
   "file_extension": ".py",
   "mimetype": "text/x-python",
   "name": "python",
   "nbconvert_exporter": "python",
   "pygments_lexer": "ipython3",
   "version": "3.12.4"
  }
 },
 "nbformat": 4,
 "nbformat_minor": 5
}
