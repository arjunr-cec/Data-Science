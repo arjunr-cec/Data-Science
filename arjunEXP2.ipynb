{
 "cells": [
  {
   "cell_type": "code",
   "execution_count": 4,
   "id": "5d838e98-b7b8-4e24-bc82-04f14216f94a",
   "metadata": {},
   "outputs": [
    {
     "name": "stdout",
     "output_type": "stream",
     "text": [
      "one dimenstional array a= [1 2 3]\n",
      "two dimenstional array b= (array([1, 2, 3]), [4, 5, 6])\n",
      "size of the array : (3,)\n",
      "element at indices 0,1,2 1 2 3\n",
      "array after changing the amount at index 0: [5 2 3]\n",
      "an array of all zeros: [[0. 0.]\n",
      " [0. 0.]]\n",
      "an array of all ones: [[1. 1.]]\n",
      "a constant array : 6\n",
      "a 2*2 identify matrix: [[1. 0.]\n",
      " [0. 1.]]\n",
      "an array with random values: [[0.30996337 0.51420453]\n",
      " [0.7738115  0.64912308]]\n"
     ]
    }
   ],
   "source": [
    "import numpy as np\n",
    "a=np.array([1,2,3])\n",
    "print(\"one dimenstional array a=\",a)\n",
    "b=np.array([1,2,3]),([4,5,6])\n",
    "print(\"two dimenstional array b=\",b)\n",
    "print(\"size of the array :\",a.shape)\n",
    "print(\"element at indices 0,1,2\",a[0],a[1],a[2])\n",
    "a[0]=5\n",
    "print(\"array after changing the amount at index 0:\",a)\n",
    "a=np.zeros((2,2))\n",
    "print(\"an array of all zeros:\",a)\n",
    "b=np.ones((1,2))\n",
    "print(\"an array of all ones:\",b)\n",
    "c=np.full((2,2),7)\n",
    "print(\"a constant array :\",6)\n",
    "d=np.eye(2)\n",
    "print(\"a 2*2 identify matrix:\",d)\n",
    "e=np.random.random((2,2))\n",
    "print(\"an array with random values:\",e)"
   ]
  },
  {
   "cell_type": "code",
   "execution_count": null,
   "id": "9e571253-3409-4512-8f13-0d5fc38efe38",
   "metadata": {},
   "outputs": [],
   "source": []
  }
 ],
 "metadata": {
  "kernelspec": {
   "display_name": "Python 3 (ipykernel)",
   "language": "python",
   "name": "python3"
  },
  "language_info": {
   "codemirror_mode": {
    "name": "ipython",
    "version": 3
   },
   "file_extension": ".py",
   "mimetype": "text/x-python",
   "name": "python",
   "nbconvert_exporter": "python",
   "pygments_lexer": "ipython3",
   "version": "3.12.4"
  }
 },
 "nbformat": 4,
 "nbformat_minor": 5
}
